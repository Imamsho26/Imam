{
 "cells": [
  {
   "cell_type": "code",
   "execution_count": null,
   "id": "e603663f-1862-4696-a039-f43e68b5bbdd",
   "metadata": {},
   "outputs": [],
   "source": []
  }
 ],
 "metadata": {
  "kernelspec": {
   "display_name": "",
   "name": ""
  },
  "language_info": {
   "name": ""
  }
 },
 "nbformat": 4,
 "nbformat_minor": 5
}
